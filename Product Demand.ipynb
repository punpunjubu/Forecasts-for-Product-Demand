{
    "cells": [
        {
            "cell_type": "code",
            "execution_count": 33,
            "metadata": {},
            "outputs": [],
            "source": "# !pip install ipython-sql"
        },
        {
            "cell_type": "code",
            "execution_count": 5,
            "metadata": {},
            "outputs": [],
            "source": "%load_ext sql"
        },
        {
            "cell_type": "code",
            "execution_count": 6,
            "metadata": {},
            "outputs": [],
            "source": "# The code was removed by Watson Studio for sharing."
        },
        {
            "cell_type": "code",
            "execution_count": 7,
            "metadata": {},
            "outputs": [
                {
                    "name": "stdout",
                    "output_type": "stream",
                    "text": " * ibm_db_sa://kst20259:***@dashdb-txn-sbox-yp-dal09-04.services.dal.bluemix.net:50000/BLUDB\nDone.\n"
                },
                {
                    "data": {
                        "text/html": "<table>\n    <tr>\n        <th>Product_Code</th>\n        <th>Warehouse</th>\n        <th>Product_Category</th>\n        <th>Date</th>\n        <th>Order_Demand</th>\n    </tr>\n    <tr>\n        <td>Product_0993</td>\n        <td>Whse_J</td>\n        <td>Category_028</td>\n        <td>2012/7/27</td>\n        <td>100</td>\n    </tr>\n    <tr>\n        <td>Product_0979</td>\n        <td>Whse_J</td>\n        <td>Category_028</td>\n        <td>2012/1/19</td>\n        <td>500</td>\n    </tr>\n    <tr>\n        <td>Product_0979</td>\n        <td>Whse_J</td>\n        <td>Category_028</td>\n        <td>2012/2/3</td>\n        <td>500</td>\n    </tr>\n    <tr>\n        <td>Product_0979</td>\n        <td>Whse_J</td>\n        <td>Category_028</td>\n        <td>2012/2/9</td>\n        <td>500</td>\n    </tr>\n    <tr>\n        <td>Product_0979</td>\n        <td>Whse_J</td>\n        <td>Category_028</td>\n        <td>2012/3/2</td>\n        <td>500</td>\n    </tr>\n</table>",
                        "text/plain": "[('Product_0993', 'Whse_J', 'Category_028', '2012/7/27', '100'),\n ('Product_0979', 'Whse_J', 'Category_028', '2012/1/19', '500'),\n ('Product_0979', 'Whse_J', 'Category_028', '2012/2/3', '500'),\n ('Product_0979', 'Whse_J', 'Category_028', '2012/2/9', '500'),\n ('Product_0979', 'Whse_J', 'Category_028', '2012/3/2', '500')]"
                    },
                    "execution_count": 7,
                    "metadata": {},
                    "output_type": "execute_result"
                }
            ],
            "source": "%sql SELECT * FROM KST20259.HISTORICAL_PRODUCT_DEMAND LIMIT 5;"
        },
        {
            "cell_type": "code",
            "execution_count": 16,
            "metadata": {},
            "outputs": [],
            "source": "import ibm_db_dbi\nimport ibm_db\n"
        },
        {
            "cell_type": "code",
            "execution_count": 25,
            "metadata": {},
            "outputs": [],
            "source": "# The code was removed by Watson Studio for sharing."
        },
        {
            "cell_type": "code",
            "execution_count": 26,
            "metadata": {},
            "outputs": [],
            "source": "import pandas as pd\n\ndf = pd.read_sql_query('SELECT * FROM KST20259.HISTORICAL_PRODUCT_DEMAND', connDbi)"
        },
        {
            "cell_type": "code",
            "execution_count": 29,
            "metadata": {},
            "outputs": [
                {
                    "data": {
                        "text/plain": "True"
                    },
                    "execution_count": 29,
                    "metadata": {},
                    "output_type": "execute_result"
                }
            ],
            "source": "ibm_db.close(conn)"
        },
        {
            "cell_type": "code",
            "execution_count": 44,
            "metadata": {},
            "outputs": [
                {
                    "data": {
                        "text/html": "<div>\n<style scoped>\n    .dataframe tbody tr th:only-of-type {\n        vertical-align: middle;\n    }\n\n    .dataframe tbody tr th {\n        vertical-align: top;\n    }\n\n    .dataframe thead th {\n        text-align: right;\n    }\n</style>\n<table border=\"1\" class=\"dataframe\">\n  <thead>\n    <tr style=\"text-align: right;\">\n      <th></th>\n      <th>Product_Code</th>\n      <th>Warehouse</th>\n      <th>Product_Category</th>\n      <th>Date</th>\n      <th>Order_Demand</th>\n    </tr>\n  </thead>\n  <tbody>\n    <tr>\n      <th>0</th>\n      <td>Product_0993</td>\n      <td>Whse_J</td>\n      <td>Category_028</td>\n      <td>2012/7/27</td>\n      <td>100</td>\n    </tr>\n    <tr>\n      <th>1</th>\n      <td>Product_0979</td>\n      <td>Whse_J</td>\n      <td>Category_028</td>\n      <td>2012/1/19</td>\n      <td>500</td>\n    </tr>\n    <tr>\n      <th>2</th>\n      <td>Product_0979</td>\n      <td>Whse_J</td>\n      <td>Category_028</td>\n      <td>2012/2/3</td>\n      <td>500</td>\n    </tr>\n    <tr>\n      <th>3</th>\n      <td>Product_0979</td>\n      <td>Whse_J</td>\n      <td>Category_028</td>\n      <td>2012/2/9</td>\n      <td>500</td>\n    </tr>\n    <tr>\n      <th>4</th>\n      <td>Product_0979</td>\n      <td>Whse_J</td>\n      <td>Category_028</td>\n      <td>2012/3/2</td>\n      <td>500</td>\n    </tr>\n  </tbody>\n</table>\n</div>",
                        "text/plain": "   Product_Code Warehouse Product_Category       Date Order_Demand\n0  Product_0993    Whse_J     Category_028  2012/7/27          100\n1  Product_0979    Whse_J     Category_028  2012/1/19          500\n2  Product_0979    Whse_J     Category_028   2012/2/3          500\n3  Product_0979    Whse_J     Category_028   2012/2/9          500\n4  Product_0979    Whse_J     Category_028   2012/3/2          500"
                    },
                    "execution_count": 44,
                    "metadata": {},
                    "output_type": "execute_result"
                }
            ],
            "source": "df.head()"
        },
        {
            "cell_type": "code",
            "execution_count": 45,
            "metadata": {},
            "outputs": [
                {
                    "name": "stdout",
                    "output_type": "stream",
                    "text": "Product_Code        object\nWarehouse           object\nProduct_Category    object\nDate                object\nOrder_Demand        object\ndtype: object\n"
                }
            ],
            "source": "print(df.dtypes)"
        },
        {
            "cell_type": "code",
            "execution_count": 51,
            "metadata": {},
            "outputs": [],
            "source": "df.dropna(inplace=True)"
        },
        {
            "cell_type": "code",
            "execution_count": 54,
            "metadata": {},
            "outputs": [
                {
                    "data": {
                        "text/plain": "False"
                    },
                    "execution_count": 54,
                    "metadata": {},
                    "output_type": "execute_result"
                }
            ],
            "source": "df.isnull().values.any()"
        },
        {
            "cell_type": "code",
            "execution_count": 59,
            "metadata": {},
            "outputs": [
                {
                    "data": {
                        "text/html": "<div>\n<style scoped>\n    .dataframe tbody tr th:only-of-type {\n        vertical-align: middle;\n    }\n\n    .dataframe tbody tr th {\n        vertical-align: top;\n    }\n\n    .dataframe thead th {\n        text-align: right;\n    }\n</style>\n<table border=\"1\" class=\"dataframe\">\n  <thead>\n    <tr style=\"text-align: right;\">\n      <th></th>\n      <th>Product_Code</th>\n      <th>Warehouse</th>\n      <th>Product_Category</th>\n      <th>Date</th>\n      <th>Order_Demand</th>\n    </tr>\n  </thead>\n  <tbody>\n    <tr>\n      <th>45460</th>\n      <td>Product_1461</td>\n      <td>Whse_A</td>\n      <td>Category_019</td>\n      <td>NA</td>\n      <td>10000</td>\n    </tr>\n    <tr>\n      <th>456373</th>\n      <td>Product_1636</td>\n      <td>Whse_A</td>\n      <td>Category_019</td>\n      <td>NA</td>\n      <td>100</td>\n    </tr>\n    <tr>\n      <th>456374</th>\n      <td>Product_1461</td>\n      <td>Whse_A</td>\n      <td>Category_019</td>\n      <td>NA</td>\n      <td>300</td>\n    </tr>\n    <tr>\n      <th>456375</th>\n      <td>Product_1464</td>\n      <td>Whse_A</td>\n      <td>Category_019</td>\n      <td>NA</td>\n      <td>300</td>\n    </tr>\n    <tr>\n      <th>456376</th>\n      <td>Product_1388</td>\n      <td>Whse_A</td>\n      <td>Category_019</td>\n      <td>NA</td>\n      <td>200</td>\n    </tr>\n  </tbody>\n</table>\n</div>",
                        "text/plain": "        Product_Code Warehouse Product_Category Date Order_Demand\n45460   Product_1461    Whse_A     Category_019   NA        10000\n456373  Product_1636    Whse_A     Category_019   NA          100\n456374  Product_1461    Whse_A     Category_019   NA          300\n456375  Product_1464    Whse_A     Category_019   NA          300\n456376  Product_1388    Whse_A     Category_019   NA          200"
                    },
                    "execution_count": 59,
                    "metadata": {},
                    "output_type": "execute_result"
                }
            ],
            "source": "df.loc[df['Date'] == 'NA'].head()"
        },
        {
            "cell_type": "code",
            "execution_count": 60,
            "metadata": {},
            "outputs": [],
            "source": "df = df.drop(df[df.Date == 'NA'].index)"
        },
        {
            "cell_type": "code",
            "execution_count": 61,
            "metadata": {},
            "outputs": [],
            "source": "df['Date'] = pd.to_datetime(df['Date'])\ndf['Year'] = df['Date'].dt.year"
        },
        {
            "cell_type": "code",
            "execution_count": 62,
            "metadata": {},
            "outputs": [
                {
                    "data": {
                        "text/html": "<div>\n<style scoped>\n    .dataframe tbody tr th:only-of-type {\n        vertical-align: middle;\n    }\n\n    .dataframe tbody tr th {\n        vertical-align: top;\n    }\n\n    .dataframe thead th {\n        text-align: right;\n    }\n</style>\n<table border=\"1\" class=\"dataframe\">\n  <thead>\n    <tr style=\"text-align: right;\">\n      <th></th>\n      <th>Product_Code</th>\n      <th>Warehouse</th>\n      <th>Product_Category</th>\n      <th>Date</th>\n      <th>Order_Demand</th>\n      <th>Year</th>\n    </tr>\n  </thead>\n  <tbody>\n    <tr>\n      <th>0</th>\n      <td>Product_0993</td>\n      <td>Whse_J</td>\n      <td>Category_028</td>\n      <td>2012-07-27</td>\n      <td>100</td>\n      <td>2012</td>\n    </tr>\n    <tr>\n      <th>1</th>\n      <td>Product_0979</td>\n      <td>Whse_J</td>\n      <td>Category_028</td>\n      <td>2012-01-19</td>\n      <td>500</td>\n      <td>2012</td>\n    </tr>\n    <tr>\n      <th>2</th>\n      <td>Product_0979</td>\n      <td>Whse_J</td>\n      <td>Category_028</td>\n      <td>2012-02-03</td>\n      <td>500</td>\n      <td>2012</td>\n    </tr>\n    <tr>\n      <th>3</th>\n      <td>Product_0979</td>\n      <td>Whse_J</td>\n      <td>Category_028</td>\n      <td>2012-02-09</td>\n      <td>500</td>\n      <td>2012</td>\n    </tr>\n    <tr>\n      <th>4</th>\n      <td>Product_0979</td>\n      <td>Whse_J</td>\n      <td>Category_028</td>\n      <td>2012-03-02</td>\n      <td>500</td>\n      <td>2012</td>\n    </tr>\n  </tbody>\n</table>\n</div>",
                        "text/plain": "   Product_Code Warehouse Product_Category       Date Order_Demand  Year\n0  Product_0993    Whse_J     Category_028 2012-07-27          100  2012\n1  Product_0979    Whse_J     Category_028 2012-01-19          500  2012\n2  Product_0979    Whse_J     Category_028 2012-02-03          500  2012\n3  Product_0979    Whse_J     Category_028 2012-02-09          500  2012\n4  Product_0979    Whse_J     Category_028 2012-03-02          500  2012"
                    },
                    "execution_count": 62,
                    "metadata": {},
                    "output_type": "execute_result"
                }
            ],
            "source": "df.head()"
        },
        {
            "cell_type": "code",
            "execution_count": 68,
            "metadata": {},
            "outputs": [],
            "source": "df2 = df[['Year', 'Order_Demand']].groupby(['Year'], as_index=False).count()"
        },
        {
            "cell_type": "code",
            "execution_count": 69,
            "metadata": {},
            "outputs": [
                {
                    "data": {
                        "text/html": "<div>\n<style scoped>\n    .dataframe tbody tr th:only-of-type {\n        vertical-align: middle;\n    }\n\n    .dataframe tbody tr th {\n        vertical-align: top;\n    }\n\n    .dataframe thead th {\n        text-align: right;\n    }\n</style>\n<table border=\"1\" class=\"dataframe\">\n  <thead>\n    <tr style=\"text-align: right;\">\n      <th></th>\n      <th>Year</th>\n      <th>Order_Demand</th>\n    </tr>\n  </thead>\n  <tbody>\n    <tr>\n      <th>2</th>\n      <td>2013</td>\n      <td>218298</td>\n    </tr>\n    <tr>\n      <th>3</th>\n      <td>2014</td>\n      <td>216404</td>\n    </tr>\n    <tr>\n      <th>4</th>\n      <td>2015</td>\n      <td>209661</td>\n    </tr>\n    <tr>\n      <th>5</th>\n      <td>2016</td>\n      <td>188645</td>\n    </tr>\n    <tr>\n      <th>6</th>\n      <td>2017</td>\n      <td>53</td>\n    </tr>\n  </tbody>\n</table>\n</div>",
                        "text/plain": "   Year  Order_Demand\n2  2013        218298\n3  2014        216404\n4  2015        209661\n5  2016        188645\n6  2017            53"
                    },
                    "execution_count": 69,
                    "metadata": {},
                    "output_type": "execute_result"
                }
            ],
            "source": "df2.tail()"
        },
        {
            "cell_type": "code",
            "execution_count": 70,
            "metadata": {},
            "outputs": [],
            "source": "import matplotlib.pyplot as plt\nimport seaborn as sns\n%matplotlib inline "
        },
        {
            "cell_type": "code",
            "execution_count": 77,
            "metadata": {},
            "outputs": [
                {
                    "data": {
                        "text/plain": "<seaborn.axisgrid.FacetGrid at 0x7fbb59f64898>"
                    },
                    "execution_count": 77,
                    "metadata": {},
                    "output_type": "execute_result"
                },
                {
                    "data": {
                        "image/png": "[encoded data removed]",
                        "text/plain": "<Figure size 360x360 with 1 Axes>"
                    },
                    "metadata": {
                        "needs_background": "light"
                    },
                    "output_type": "display_data"
                }
            ],
            "source": "sns.relplot(x=\"Year\", y=\"Order_Demand\", ci=None, kind=\"line\", data=df2)"
        },
        {
            "cell_type": "code",
            "execution_count": null,
            "metadata": {},
            "outputs": [],
            "source": ""
        },
        {
            "cell_type": "code",
            "execution_count": null,
            "metadata": {},
            "outputs": [],
            "source": ""
        }
    ],
    "metadata": {
        "kernelspec": {
            "display_name": "Python 3.6",
            "language": "python",
            "name": "python3"
        }
    },
    "nbformat": 4,
    "nbformat_minor": 1
}